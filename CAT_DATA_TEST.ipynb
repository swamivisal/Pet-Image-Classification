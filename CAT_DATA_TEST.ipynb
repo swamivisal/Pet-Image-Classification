{
  "nbformat": 4,
  "nbformat_minor": 0,
  "metadata": {
    "colab": {
      "name": "CAT_DATA_TEST.ipynb",
      "provenance": [],
      "authorship_tag": "ABX9TyNuffKKJVUqmhyHGxFeVAAh",
      "include_colab_link": true
    },
    "kernelspec": {
      "name": "python3",
      "display_name": "Python 3"
    },
    "language_info": {
      "name": "python"
    }
  },
  "cells": [
    {
      "cell_type": "markdown",
      "metadata": {
        "id": "view-in-github",
        "colab_type": "text"
      },
      "source": [
        "<a href=\"https://colab.research.google.com/github/swamivisal/Pet-Image-Classification/blob/main/CAT_DATA_TEST.ipynb\" target=\"_parent\"><img src=\"https://colab.research.google.com/assets/colab-badge.svg\" alt=\"Open In Colab\"/></a>"
      ]
    },
    {
      "cell_type": "markdown",
      "metadata": {
        "id": "zxGK61JmSrEs"
      },
      "source": [
        "##**Importing the libraries**"
      ]
    },
    {
      "cell_type": "code",
      "metadata": {
        "id": "YVoAppw7IfWx"
      },
      "source": [
        "from tensorflow import keras \t\t\t\t\t\t\t\t\t\t\t\n",
        "from tensorflow.keras.layers import Flatten,Dense,Activation,Conv2D,MaxPooling2D \t\t\t\t\t\n",
        "import numpy as np \t\t\t\t\t\t\t\t\t\t\t\t\n",
        "import cv2\n",
        "from google.colab.patches import cv2_imshow"
      ],
      "execution_count": 54,
      "outputs": []
    },
    {
      "cell_type": "markdown",
      "metadata": {
        "id": "JgC2XdzwS42Z"
      },
      "source": [
        "##**Preprocessing the Testing data**"
      ]
    },
    {
      "cell_type": "code",
      "metadata": {
        "colab": {
          "base_uri": "https://localhost:8080/"
        },
        "id": "BrfEurqTJCFC",
        "outputId": "f25be0a7-45f0-4b5f-97be-56e64493859c"
      },
      "source": [
        "classes = [\"Cat\",\"Dog\"]\t\t\n",
        "path=\"/content/drive/MyDrive/Computer Vision/TRAIN.npy\"\t\t\t\t\t\t\t\t\t\n",
        "dataset = np.load(path,allow_pickle = True)\t\t\t\t\t\t\t\t\n",
        "X = [] \t\t\t\t\t\t\t\t\t\t\t\t\t\n",
        "Y = [] \t\t\t\t\t\t\t\t\t\t\t\t\t\n",
        "for image,label in dataset[20000:]:\n",
        "  X.append(image)\n",
        "  Y.append(label)\n",
        "X = np.array(X)\t\t\t\t\t\t\t\t\t\t\n",
        "Y = np.array(Y) \t\t\t\t\t\t\t\t\t\t\t\t\n",
        "X = X/255.0 \t\t\t\t\t\t\t\t\t\t\t\t\n",
        "#cv2_imshow(X[22]) \t\n",
        "print(X.shape)\t\t\t"
      ],
      "execution_count": 58,
      "outputs": [
        {
          "output_type": "stream",
          "text": [
            "(4946, 50, 50, 3)\n"
          ],
          "name": "stdout"
        }
      ]
    },
    {
      "cell_type": "markdown",
      "metadata": {
        "id": "JJgKbQOaTRu0"
      },
      "source": [
        "##**Loading and Evaluating the saved Model**"
      ]
    },
    {
      "cell_type": "code",
      "metadata": {
        "colab": {
          "base_uri": "https://localhost:8080/"
        },
        "id": "_IZDOdc3JCBA",
        "outputId": "15513120-c20e-457a-8341-705d018ded2e"
      },
      "source": [
        "model_path=\"/content/drive/MyDrive/Computer Vision/Model/best.hdf5\"\n",
        "model = keras.models.load_model(model_path)\n",
        "model.evaluate(X,Y)"
      ],
      "execution_count": 56,
      "outputs": [
        {
          "output_type": "stream",
          "text": [
            "155/155 [==============================] - 6s 41ms/step - loss: 0.3829 - accuracy: 0.8346\n"
          ],
          "name": "stdout"
        },
        {
          "output_type": "execute_result",
          "data": {
            "text/plain": [
              "[0.38288187980651855, 0.8346138000488281]"
            ]
          },
          "metadata": {
            "tags": []
          },
          "execution_count": 56
        }
      ]
    },
    {
      "cell_type": "markdown",
      "metadata": {
        "id": "Q-wzJPdlTOHp"
      },
      "source": [
        "##**Prediction for few test inputs**"
      ]
    },
    {
      "cell_type": "code",
      "metadata": {
        "colab": {
          "base_uri": "https://localhost:8080/"
        },
        "id": "xRNRuqIJTNnd",
        "outputId": "3ce868bf-0735-4c39-afa6-b115d35c501b"
      },
      "source": [
        "for i,image in enumerate(X[:10]):\n",
        "  predicted=model.predict_classes(image.reshape(1,50,50,3))\n",
        "  print(\"Predicted:{},Target:{}\".format(classes[predicted[0][0]],classes[Y[i]]))\n",
        "  "
      ],
      "execution_count": 60,
      "outputs": [
        {
          "output_type": "stream",
          "text": [
            "/usr/local/lib/python3.7/dist-packages/tensorflow/python/keras/engine/sequential.py:455: UserWarning: `model.predict_classes()` is deprecated and will be removed after 2021-01-01. Please use instead:* `np.argmax(model.predict(x), axis=-1)`,   if your model does multi-class classification   (e.g. if it uses a `softmax` last-layer activation).* `(model.predict(x) > 0.5).astype(\"int32\")`,   if your model does binary classification   (e.g. if it uses a `sigmoid` last-layer activation).\n",
            "  warnings.warn('`model.predict_classes()` is deprecated and '\n"
          ],
          "name": "stderr"
        },
        {
          "output_type": "stream",
          "text": [
            "Predicted:Dog,Target:Dog\n",
            "Predicted:Cat,Target:Cat\n",
            "Predicted:Cat,Target:Cat\n",
            "Predicted:Cat,Target:Cat\n",
            "Predicted:Dog,Target:Dog\n",
            "Predicted:Cat,Target:Cat\n",
            "Predicted:Dog,Target:Dog\n",
            "Predicted:Dog,Target:Dog\n",
            "Predicted:Dog,Target:Dog\n",
            "Predicted:Dog,Target:Dog\n"
          ],
          "name": "stdout"
        }
      ]
    }
  ]
}